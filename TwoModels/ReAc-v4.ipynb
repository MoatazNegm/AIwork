{
 "cells": [
  {
   "cell_type": "code",
   "execution_count": 1,
   "id": "bc919864",
   "metadata": {},
   "outputs": [],
   "source": [
    "def list_files(location: str) -> str:\n",
    "    \"\"\"\n",
    "        Description:\n",
    "            LLMTool that Get the files at a location.\n",
    "\n",
    "        Args:\n",
    "            location: list The location filesr, in the format \"City, Country\"\n",
    "        Returns:\n",
    "            The current temperature at the specified location in the specified units, as a float.\n",
    "\n",
    "        return 22.  # A real function should probably actually get the temperature!\n",
    "      \"\"\"\n",
    "    import os\n",
    "    try:\n",
    "        files = os.listdir(location)\n",
    "        return ', '.join(files)\n",
    "    except Exception as e:\n",
    "        return f\"Error listing files: {str(e)}\""
   ]
  },
  {
   "cell_type": "code",
   "execution_count": 2,
   "id": "dfb0725e",
   "metadata": {},
   "outputs": [],
   "source": [
    "def get_current_temperature(location: str) -> float:\n",
    "    \"\"\"\n",
    "        Description:\n",
    "            LLMTool that Get the current temperature at a location.\n",
    "\n",
    "        Args:\n",
    "            location: The location to get the temperature for, in the format \"City, Country\"\n",
    "        Returns:\n",
    "            The current temperature at the specified location in the specified units, as a float.\n",
    "\n",
    "        return 22.  # A real function should probably actually get the temperature!\n",
    "      \"\"\"\n",
    "    return 33.5"
   ]
  },
  {
   "cell_type": "code",
   "execution_count": null,
   "id": "f24299b7",
   "metadata": {},
   "outputs": [],
   "source": []
  },
  {
   "cell_type": "code",
   "execution_count": null,
   "id": "a2ea0e64",
   "metadata": {
    "scrolled": true
   },
   "outputs": [],
   "source": []
  },
  {
   "cell_type": "code",
   "execution_count": null,
   "id": "9a535fcb",
   "metadata": {},
   "outputs": [],
   "source": []
  },
  {
   "cell_type": "code",
   "execution_count": 3,
   "id": "1a87bb94",
   "metadata": {
    "scrolled": false
   },
   "outputs": [
    {
     "ename": "IndentationError",
     "evalue": "expected an indented block after function definition on line 298 (Agent.py, line 299)",
     "output_type": "error",
     "traceback": [
      "Traceback \u001b[0;36m(most recent call last)\u001b[0m:\n",
      "\u001b[0m  File \u001b[1;32m/usr/local/lib/python3.10/dist-packages/IPython/core/interactiveshell.py:3553\u001b[0m in \u001b[1;35mrun_code\u001b[0m\n    exec(code_obj, self.user_global_ns, self.user_ns)\u001b[0m\n",
      "\u001b[0;36m  Cell \u001b[0;32mIn[3], line 2\u001b[0;36m\n\u001b[0;31m    import Agent\u001b[0;36m\n",
      "\u001b[0;36m  File \u001b[0;32m/workspace/moataz-work/TwoModels/Agent.py:299\u001b[0;36m\u001b[0m\n\u001b[0;31m    \"\"\"\u001b[0m\n\u001b[0m    ^\u001b[0m\n\u001b[0;31mIndentationError\u001b[0m\u001b[0;31m:\u001b[0m expected an indented block after function definition on line 298\n"
     ]
    }
   ],
   "source": [
    "if __name__ == \"__main__\":\n",
    "    import Agent\n",
    "    try:\n",
    "        del agnet\n",
    "        torch.cuda.empty_cache()\n",
    "        torch.cuda.synchronize()\n",
    "    except:\n",
    "            pass\n",
    "    systemprompt = '''You are a bot that responds to quaries and your name is Assisto. reply to any quary in a normal statement \n",
    "                        except if you need to run a tool and the tool is already known to you then reply in a json format\n",
    "                        you do not need to reply in json format if you do not need to call a function. the tools that are \\\n",
    "                        provided to you are the only tools that you can run\n",
    "                    '''\n",
    "    \n",
    "    print(\"Tools in this script:\")\n",
    "    tools = Agent.list_llm_tools()\n",
    "    for tool_name in tools :\n",
    "        print(f\"- {tool_name.__name__}\") \n",
    "    agent = Agent.agentthis(\"\",\n",
    "        systemprompt, 7,0, tools)\n",
    "    print(agent)\n",
    "    "
   ]
  },
  {
   "cell_type": "code",
   "execution_count": null,
   "id": "2f9d47d7",
   "metadata": {},
   "outputs": [],
   "source": [
    "print(agent.generate_response('what are the steps that are needed to know how much I can earn from selling one book ?'))"
   ]
  },
  {
   "cell_type": "code",
   "execution_count": null,
   "id": "f02b7559",
   "metadata": {
    "scrolled": true
   },
   "outputs": [],
   "source": [
    "agrep = agent.generate_response('what are the contents of the /root ?')"
   ]
  },
  {
   "cell_type": "code",
   "execution_count": null,
   "id": "540e983d",
   "metadata": {},
   "outputs": [],
   "source": []
  },
  {
   "cell_type": "code",
   "execution_count": null,
   "id": "76481b3a",
   "metadata": {
    "scrolled": true
   },
   "outputs": [],
   "source": [
    "import json\n",
    "import re\n",
    "\n",
    "def extract_all_json(text):\n",
    "    \"\"\"\n",
    "    Extracts all valid JSON objects from a string.\n",
    "\n",
    "    Args:\n",
    "        text: The string to search for JSON.\n",
    "\n",
    "    Returns:\n",
    "        A list of Python dictionaries (the parsed JSON objects) and the text parts before, between and after the jsons.\n",
    "        Returns an empty list if no valid JSON is found.\n",
    "    \"\"\"\n",
    "    json_objects = []\n",
    "    text_parts = []\n",
    "    print(text)\n",
    "    try:\n",
    "        matches =   list(re.finditer(r\"\\{(?:[^{}]|{[^{}]*})*\\}\", text)) # Use finditer for indices\n",
    "        print('matches',matches)\n",
    "        if not matches:\n",
    "            return [], [text.strip()]  # No JSON found\n",
    "\n",
    "        last_end = 0\n",
    "        for match in matches:\n",
    "            json_string = match.group(0)\n",
    "            try:\n",
    "                data = json.loads(json_string)\n",
    "                json_objects.append(data)\n",
    "                text_parts.append(text[last_end:match.start()].strip())\n",
    "                last_end = match.end()\n",
    "            except json.JSONDecodeError:\n",
    "                pass  # Ignore invalid JSON\n",
    "        text_parts.append(text[last_end:].strip()) #add the last part of the text\n",
    "\n",
    "        return json_objects, text_parts\n",
    "\n",
    "    except Exception as e:\n",
    "        print(f\"An unexpected error occurred: {e}\")\n",
    "        return [], [text.strip()]\n",
    "\n",
    "# Example usage:\n",
    "test_string = 'I think I need to calculate'+ agrep + 'that is the one' +agrep\n",
    "#test_string =  \"{\\\"tool\\\": \\\"mytool1\\\", \\\"params\\\": {\\\"a\\\": 1} } hiall {\\\"tool\\\": \\\"mytool2\\\", \\\"params\\\": {\\\"b\\\": 2} }hiall{\\\"tool\\\": \\\"mytool3\\\", \\\"params\\\": {\\\"c\\\": 3} }\"\n",
    "\n",
    "json_data_list, text_parts = Agent.extract_all_json(test_string)\n",
    "print(json_data_list)\n",
    "\n"
   ]
  },
  {
   "cell_type": "code",
   "execution_count": null,
   "id": "d6b43ade",
   "metadata": {
    "scrolled": true
   },
   "outputs": [],
   "source": [
    "agent.generate_response('what is your name ? ')"
   ]
  },
  {
   "cell_type": "code",
   "execution_count": null,
   "id": "fcbbe7f2",
   "metadata": {
    "scrolled": false
   },
   "outputs": [],
   "source": [
    "agent.generate_response('waht is the last quaery which I asked you ?')"
   ]
  },
  {
   "cell_type": "code",
   "execution_count": null,
   "id": "38690a75",
   "metadata": {},
   "outputs": [],
   "source": []
  },
  {
   "cell_type": "markdown",
   "id": "8c2fcbea",
   "metadata": {},
   "source": [
    "agent.messages"
   ]
  },
  {
   "cell_type": "markdown",
   "id": "f56d6baa",
   "metadata": {},
   "source": [
    "del agent"
   ]
  },
  {
   "cell_type": "code",
   "execution_count": null,
   "id": "abe1ca80",
   "metadata": {},
   "outputs": [],
   "source": []
  },
  {
   "cell_type": "code",
   "execution_count": null,
   "id": "40edc7b7",
   "metadata": {},
   "outputs": [],
   "source": []
  },
  {
   "cell_type": "code",
   "execution_count": null,
   "id": "93d12fe1",
   "metadata": {},
   "outputs": [],
   "source": []
  },
  {
   "cell_type": "code",
   "execution_count": null,
   "id": "f47e8fe5",
   "metadata": {},
   "outputs": [],
   "source": []
  },
  {
   "cell_type": "code",
   "execution_count": null,
   "id": "196a0f99",
   "metadata": {},
   "outputs": [],
   "source": []
  }
 ],
 "metadata": {
  "kernelspec": {
   "display_name": "Python 3 (ipykernel)",
   "language": "python",
   "name": "python3"
  },
  "language_info": {
   "codemirror_mode": {
    "name": "ipython",
    "version": 3
   },
   "file_extension": ".py",
   "mimetype": "text/x-python",
   "name": "python",
   "nbconvert_exporter": "python",
   "pygments_lexer": "ipython3",
   "version": "3.10.12"
  }
 },
 "nbformat": 4,
 "nbformat_minor": 5
}
