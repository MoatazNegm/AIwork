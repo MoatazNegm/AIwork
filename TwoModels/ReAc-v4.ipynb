{
 "cells": [
  {
   "cell_type": "code",
   "execution_count": 1,
   "id": "bc919864",
   "metadata": {},
   "outputs": [],
   "source": [
    "def list_files(location: str) -> str:\n",
    "    \"\"\"\n",
    "        Description:\n",
    "            LLMTool that Get the files at a location.\n",
    "\n",
    "        Args:\n",
    "            location: list The location filesr, in the format \"City, Country\"\n",
    "        Returns:\n",
    "            The current temperature at the specified location in the specified units, as a float.\n",
    "\n",
    "        return 22.  # A real function should probably actually get the temperature!\n",
    "      \"\"\"\n",
    "    import os\n",
    "    try:\n",
    "        files = os.listdir(location)\n",
    "        return ', '.join(files)\n",
    "    except Exception as e:\n",
    "        return f\"Error listing files: {str(e)}\""
   ]
  },
  {
   "cell_type": "code",
   "execution_count": 2,
   "id": "dfb0725e",
   "metadata": {},
   "outputs": [],
   "source": [
    "def get_current_temperature(location: str) -> float:\n",
    "    \"\"\"\n",
    "        Description:\n",
    "            LLMTool that Get the current temperature at a location.\n",
    "\n",
    "        Args:\n",
    "            location: The location to get the temperature for, in the format \"City, Country\"\n",
    "        Returns:\n",
    "            The current temperature at the specified location in the specified units, as a float.\n",
    "\n",
    "        return 22.  # A real function should probably actually get the temperature!\n",
    "      \"\"\"\n",
    "    return 33.5"
   ]
  },
  {
   "cell_type": "code",
   "execution_count": null,
   "id": "f24299b7",
   "metadata": {},
   "outputs": [],
   "source": []
  },
  {
   "cell_type": "code",
   "execution_count": null,
   "id": "a2ea0e64",
   "metadata": {
    "scrolled": true
   },
   "outputs": [],
   "source": []
  },
  {
   "cell_type": "code",
   "execution_count": null,
   "id": "9a535fcb",
   "metadata": {},
   "outputs": [],
   "source": []
  },
  {
   "cell_type": "code",
   "execution_count": 44,
   "id": "1a87bb94",
   "metadata": {
    "scrolled": true
   },
   "outputs": [
    {
     "name": "stderr",
     "output_type": "stream",
     "text": [
      "Unused kwargs: ['_load_in_4bit', '_load_in_8bit', 'quant_method']. These kwargs are not used in <class 'transformers.utils.quantization_config.BitsAndBytesConfig'>.\n",
      "`low_cpu_mem_usage` was None, now set to True since model is quantized.\n"
     ]
    },
    {
     "name": "stdout",
     "output_type": "stream",
     "text": [
      "Tools in this script:\n",
      "- list_files\n",
      "- get_current_temperature\n",
      "- get_current_temperature\n",
      "- list_files\n",
      "- list_files\n",
      "- get_current_temperature\n",
      "- get_current_temperature\n",
      "- list_files\n",
      "- CircleDiameter\n",
      "Trying to load the mode: ../meta-llama_Llama-3.1-8B-Instruct_saved_response from local repo\n"
     ]
    },
    {
     "data": {
      "application/vnd.jupyter.widget-view+json": {
       "model_id": "a97f83e6fb7446f985d02845b6106fcb",
       "version_major": 2,
       "version_minor": 0
      },
      "text/plain": [
       "Loading checkpoint shards:   0%|          | 0/2 [00:00<?, ?it/s]"
      ]
     },
     "metadata": {},
     "output_type": "display_data"
    },
    {
     "name": "stdout",
     "output_type": "stream",
     "text": [
      "<Agent.Agent object at 0x7f92f4b17e80>\n"
     ]
    }
   ],
   "source": [
    "if __name__ == \"__main__\":\n",
    "    import Agent\n",
    "    \n",
    "    try:\n",
    "        del agent\n",
    "        import torch.cuda\n",
    "        torch.cuda.empty_cache()\n",
    "        torch.cuda.synchronize()\n",
    "        import importlib\n",
    "        importlib.reload(Agent)\n",
    "    except:\n",
    "            print('it is considered first iteration')\n",
    "    systemprompt = '''You are a bot that responds to quaries and your name is Assisto. reply to any quary in a normal statement \n",
    "                        except if you need to run a tool and the tool is already known to you then reply in a json format\n",
    "                        you do not need to reply in json format if you do not need to call a function. the tools that are \\\n",
    "                        provided to you are the only tools that you can run\n",
    "                    '''\n",
    "    \n",
    "    print(\"Tools in this script:\")\n",
    "    tools = Agent.list_llm_tools()\n",
    "    for tool_name in tools :\n",
    "        print(f\"- {tool_name.__name__}\") \n",
    "    agent = Agent.agentthis(\"\",\n",
    "        systemprompt, 7,0, tools)\n",
    "    print(agent)\n",
    "    "
   ]
  },
  {
   "cell_type": "code",
   "execution_count": null,
   "id": "f04fc59e",
   "metadata": {},
   "outputs": [],
   "source": []
  },
  {
   "cell_type": "code",
   "execution_count": null,
   "id": "12a144e9",
   "metadata": {},
   "outputs": [],
   "source": []
  },
  {
   "cell_type": "code",
   "execution_count": null,
   "id": "07b0dc3e",
   "metadata": {},
   "outputs": [],
   "source": []
  },
  {
   "cell_type": "code",
   "execution_count": 43,
   "id": "9302a016",
   "metadata": {
    "scrolled": false
   },
   "outputs": [
    {
     "name": "stderr",
     "output_type": "stream",
     "text": [
      "Setting `pad_token_id` to `eos_token_id`:128001 for open-end generation.\n"
     ]
    },
    {
     "name": "stdout",
     "output_type": "stream",
     "text": [
      "tool_call {'name': 'list_files', 'parameters': {'location': '/var'}}\n",
      "tool_result 33.5\n",
      "tool_call {'name': 'CircleDiameter', 'parameters': {'radius': '33.45'}}\n"
     ]
    },
    {
     "ename": "TypeError",
     "evalue": "get_current_temperature() got an unexpected keyword argument 'radius'",
     "output_type": "error",
     "traceback": [
      "\u001b[0;31m---------------------------------------------------------------------------\u001b[0m",
      "\u001b[0;31mTypeError\u001b[0m                                 Traceback (most recent call last)",
      "Cell \u001b[0;32mIn[43], line 1\u001b[0m\n\u001b[0;32m----> 1\u001b[0m \u001b[38;5;28mprint\u001b[39m(\u001b[43magent\u001b[49m\u001b[38;5;241;43m.\u001b[39;49m\u001b[43mgenerate_response\u001b[49m\u001b[43m(\u001b[49m\u001b[38;5;124;43m'\u001b[39;49m\u001b[38;5;124;43mlist the files in /var and the diameter of the radius 33.45 ?\u001b[39;49m\u001b[38;5;124;43m'\u001b[39;49m\u001b[43m)\u001b[49m)\n",
      "File \u001b[0;32m/workspace/moataz-work/TwoModels/Agent.py:242\u001b[0m, in \u001b[0;36mAgent.generate_response\u001b[0;34m(self, prompt)\u001b[0m\n\u001b[1;32m    240\u001b[0m \u001b[38;5;28;01mdef\u001b[39;00m \u001b[38;5;21mgenerate_response\u001b[39m(\u001b[38;5;28mself\u001b[39m,prompt):\n\u001b[1;32m    241\u001b[0m     \u001b[38;5;28;01mif\u001b[39;00m \u001b[38;5;124m'\u001b[39m\u001b[38;5;124mnstruct\u001b[39m\u001b[38;5;124m'\u001b[39m \u001b[38;5;129;01min\u001b[39;00m \u001b[38;5;28mself\u001b[39m\u001b[38;5;241m.\u001b[39mmodel_name:\n\u001b[0;32m--> 242\u001b[0m         \u001b[38;5;28;01mreturn\u001b[39;00m \u001b[38;5;28;43mself\u001b[39;49m\u001b[38;5;241;43m.\u001b[39;49m\u001b[43minstruct_generate_response\u001b[49m\u001b[43m(\u001b[49m\u001b[43mprompt\u001b[49m\u001b[43m)\u001b[49m\n\u001b[1;32m    243\u001b[0m     \u001b[38;5;28;01melse\u001b[39;00m:\n\u001b[1;32m    244\u001b[0m         \u001b[38;5;28;01mreturn\u001b[39;00m \u001b[38;5;28mself\u001b[39m\u001b[38;5;241m.\u001b[39mllm_generate_response(prompt)\n",
      "File \u001b[0;32m/workspace/moataz-work/TwoModels/Agent.py:295\u001b[0m, in \u001b[0;36mAgent.instruct_generate_response\u001b[0;34m(self, prompt)\u001b[0m\n\u001b[1;32m    293\u001b[0m \u001b[38;5;28mprint\u001b[39m(\u001b[38;5;124m'\u001b[39m\u001b[38;5;124mtool_call\u001b[39m\u001b[38;5;124m'\u001b[39m,json_data)\n\u001b[1;32m    294\u001b[0m \u001b[38;5;66;03m#json_result = globals().get(json_data['name'])(**json_data['parameters'])\u001b[39;00m\n\u001b[0;32m--> 295\u001b[0m json_result \u001b[38;5;241m=\u001b[39m \u001b[38;5;28;43mself\u001b[39;49m\u001b[38;5;241;43m.\u001b[39;49m\u001b[43mtools\u001b[49m\u001b[43m[\u001b[49m\u001b[38;5;241;43m1\u001b[39;49m\u001b[43m]\u001b[49m\u001b[43m(\u001b[49m\u001b[38;5;241;43m*\u001b[39;49m\u001b[38;5;241;43m*\u001b[39;49m\u001b[43mjson_data\u001b[49m\u001b[43m[\u001b[49m\u001b[38;5;124;43m'\u001b[39;49m\u001b[38;5;124;43mparameters\u001b[39;49m\u001b[38;5;124;43m'\u001b[39;49m\u001b[43m]\u001b[49m\u001b[43m)\u001b[49m\n\u001b[1;32m    296\u001b[0m \u001b[38;5;28mprint\u001b[39m(\u001b[38;5;124m'\u001b[39m\u001b[38;5;124mtool_result\u001b[39m\u001b[38;5;124m'\u001b[39m,json_result)\n\u001b[1;32m    297\u001b[0m \u001b[38;5;66;03m#tool_call = {\"name\": \"list_files\", \"arguments\": {\"location\": \"Paris, France\"}}\u001b[39;00m\n\u001b[1;32m    298\u001b[0m \u001b[38;5;66;03m#messages.append({\"role\": \"assistant\", \"tool_calls\": [{\"type\": \"function\", \"function\": tool_call}]})\u001b[39;00m\n",
      "\u001b[0;31mTypeError\u001b[0m: get_current_temperature() got an unexpected keyword argument 'radius'"
     ]
    }
   ],
   "source": [
    "print(agent.generate_response('list the files in /var and the diameter of the radius 33.45 ?'))"
   ]
  },
  {
   "cell_type": "code",
   "execution_count": null,
   "id": "5822bbaa",
   "metadata": {},
   "outputs": [],
   "source": [
    "agent.tools[1](**json_data['parameters'])"
   ]
  },
  {
   "cell_type": "code",
   "execution_count": 31,
   "id": "2f9d47d7",
   "metadata": {
    "scrolled": true
   },
   "outputs": [],
   "source": [
    "json_data = dict({'name': 'list_files', 'parameters': {'location': '/var'}})"
   ]
  },
  {
   "cell_type": "code",
   "execution_count": 33,
   "id": "3c2557b2",
   "metadata": {},
   "outputs": [
    {
     "data": {
      "text/plain": [
       "'backups, cache, lib, local, lock, log, mail, opt, run, spool, tmp'"
      ]
     },
     "execution_count": 33,
     "metadata": {},
     "output_type": "execute_result"
    }
   ],
   "source": [
    "globals().get(json_data['name'])(**json_data['parameters'])"
   ]
  },
  {
   "cell_type": "code",
   "execution_count": null,
   "id": "4a4fe4af",
   "metadata": {},
   "outputs": [],
   "source": []
  },
  {
   "cell_type": "code",
   "execution_count": null,
   "id": "f02b7559",
   "metadata": {
    "scrolled": true
   },
   "outputs": [],
   "source": [
    "agrep = agent.generate_response('what are the contents of the /root ?')"
   ]
  },
  {
   "cell_type": "code",
   "execution_count": null,
   "id": "540e983d",
   "metadata": {},
   "outputs": [],
   "source": []
  },
  {
   "cell_type": "code",
   "execution_count": null,
   "id": "d6b43ade",
   "metadata": {
    "scrolled": true
   },
   "outputs": [],
   "source": [
    "agent.generate_response('what is your name ? ')"
   ]
  },
  {
   "cell_type": "code",
   "execution_count": null,
   "id": "fcbbe7f2",
   "metadata": {
    "scrolled": false
   },
   "outputs": [],
   "source": [
    "agent.generate_response('waht is the last quaery which I asked you ?')"
   ]
  },
  {
   "cell_type": "code",
   "execution_count": null,
   "id": "38690a75",
   "metadata": {},
   "outputs": [],
   "source": []
  },
  {
   "cell_type": "markdown",
   "id": "8c2fcbea",
   "metadata": {},
   "source": [
    "agent.messages"
   ]
  },
  {
   "cell_type": "markdown",
   "id": "f56d6baa",
   "metadata": {},
   "source": [
    "del agent"
   ]
  },
  {
   "cell_type": "code",
   "execution_count": null,
   "id": "abe1ca80",
   "metadata": {},
   "outputs": [],
   "source": []
  },
  {
   "cell_type": "code",
   "execution_count": null,
   "id": "40edc7b7",
   "metadata": {},
   "outputs": [],
   "source": []
  },
  {
   "cell_type": "code",
   "execution_count": null,
   "id": "93d12fe1",
   "metadata": {},
   "outputs": [],
   "source": []
  },
  {
   "cell_type": "code",
   "execution_count": null,
   "id": "f47e8fe5",
   "metadata": {},
   "outputs": [],
   "source": []
  },
  {
   "cell_type": "code",
   "execution_count": null,
   "id": "196a0f99",
   "metadata": {},
   "outputs": [],
   "source": []
  }
 ],
 "metadata": {
  "kernelspec": {
   "display_name": "Python 3 (ipykernel)",
   "language": "python",
   "name": "python3"
  },
  "language_info": {
   "codemirror_mode": {
    "name": "ipython",
    "version": 3
   },
   "file_extension": ".py",
   "mimetype": "text/x-python",
   "name": "python",
   "nbconvert_exporter": "python",
   "pygments_lexer": "ipython3",
   "version": "3.10.12"
  }
 },
 "nbformat": 4,
 "nbformat_minor": 5
}
