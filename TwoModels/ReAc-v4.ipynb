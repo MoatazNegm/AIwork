{
 "cells": [
  {
   "cell_type": "code",
   "execution_count": 1,
   "id": "bc919864",
   "metadata": {},
   "outputs": [],
   "source": [
    "def list_files(location: str) -> str:\n",
    "    \"\"\"\n",
    "        Description:\n",
    "            LLMTool that Get the files at a location.\n",
    "\n",
    "        Args:\n",
    "            location: list The location filesr, in the format \"City, Country\"\n",
    "        Returns:\n",
    "            The current temperature at the specified location in the specified units, as a float.\n",
    "\n",
    "        return 22.  # A real function should probably actually get the temperature!\n",
    "      \"\"\"\n",
    "    import os\n",
    "    try:\n",
    "        files = os.listdir(location)\n",
    "        return ', '.join(files)\n",
    "    except Exception as e:\n",
    "        return f\"Error listing files: {str(e)}\""
   ]
  },
  {
   "cell_type": "code",
   "execution_count": 2,
   "id": "dfb0725e",
   "metadata": {},
   "outputs": [],
   "source": [
    "def get_current_temperature(location: str) -> float:\n",
    "    \"\"\"\n",
    "        Description:\n",
    "            LLMTool that Get the current temperature at a location.\n",
    "\n",
    "        Args:\n",
    "            location: The location to get the temperature for, in the format \"City, Country\"\n",
    "        Returns:\n",
    "            The current temperature at the specified location in the specified units, as a float.\n",
    "\n",
    "        return 22.  # A real function should probably actually get the temperature!\n",
    "      \"\"\"\n",
    "    return 33.5"
   ]
  },
  {
   "cell_type": "code",
   "execution_count": null,
   "id": "f24299b7",
   "metadata": {},
   "outputs": [],
   "source": []
  },
  {
   "cell_type": "code",
   "execution_count": null,
   "id": "a2ea0e64",
   "metadata": {
    "scrolled": true
   },
   "outputs": [],
   "source": []
  },
  {
   "cell_type": "code",
   "execution_count": null,
   "id": "9a535fcb",
   "metadata": {},
   "outputs": [],
   "source": []
  },
  {
   "cell_type": "code",
   "execution_count": 3,
   "id": "1a87bb94",
   "metadata": {
    "scrolled": false
   },
   "outputs": [
    {
     "name": "stderr",
     "output_type": "stream",
     "text": [
      "Unused kwargs: ['_load_in_4bit', '_load_in_8bit', 'quant_method']. These kwargs are not used in <class 'transformers.utils.quantization_config.BitsAndBytesConfig'>.\n",
      "`low_cpu_mem_usage` was None, now set to True since model is quantized.\n"
     ]
    },
    {
     "name": "stdout",
     "output_type": "stream",
     "text": [
      "Tools in this script:\n",
      "pathpath .ipynb_checkpoints\n",
      "pathpath CircleDiameter.py\n",
      "pathpath __pycache__\n",
      "- get_current_temperature\n",
      "- list_files\n",
      "- CircleDiameter\n",
      "Trying to load the mode: ../meta-llama_Llama-3.1-8B-Instruct_saved_response from local repo\n"
     ]
    },
    {
     "data": {
      "application/vnd.jupyter.widget-view+json": {
       "model_id": "a355d52a3eb64d0cbeda8aa698511c94",
       "version_major": 2,
       "version_minor": 0
      },
      "text/plain": [
       "Loading checkpoint shards:   0%|          | 0/2 [00:00<?, ?it/s]"
      ]
     },
     "metadata": {},
     "output_type": "display_data"
    },
    {
     "name": "stdout",
     "output_type": "stream",
     "text": [
      "<Agent.Agent object at 0x7f9477c100a0>\n"
     ]
    }
   ],
   "source": [
    "if __name__ == \"__main__\":\n",
    "    import Agent\n",
    "    try:\n",
    "        del agnet\n",
    "        torch.cuda.empty_cache()\n",
    "        torch.cuda.synchronize()\n",
    "    except:\n",
    "            pass\n",
    "    systemprompt = '''You are a bot that responds to quaries and your name is Assisto. reply to any quary in a normal statement \n",
    "                        except if you need to run a tool and the tool is already known to you then reply in a json format\n",
    "                        you do not need to reply in json format if you do not need to call a function. the tools that are \\\n",
    "                        provided to you are the only tools that you can run\n",
    "                    '''\n",
    "    \n",
    "    print(\"Tools in this script:\")\n",
    "    tools = Agent.list_llm_tools()\n",
    "    for tool_name in tools :\n",
    "        print(f\"- {tool_name.__name__}\") \n",
    "    agent = Agent.agentthis(\"\",\n",
    "        systemprompt, 7,0, tools)\n",
    "    print(agent)\n",
    "    "
   ]
  },
  {
   "cell_type": "code",
   "execution_count": null,
   "id": "fb0d396c",
   "metadata": {},
   "outputs": [],
   "source": []
  },
  {
   "cell_type": "code",
   "execution_count": 4,
   "id": "2f9d47d7",
   "metadata": {
    "scrolled": true
   },
   "outputs": [
    {
     "name": "stderr",
     "output_type": "stream",
     "text": [
      "Setting `pad_token_id` to `eos_token_id`:128001 for open-end generation.\n"
     ]
    },
    {
     "name": "stdout",
     "output_type": "stream",
     "text": [
      "tool_call {'name': 'CircleDiameter', 'parameters': {'radius': '33'}}\n",
      "{\"name\": \"CircleDiameter\", \"parameters\": {\"radius\": \"33\"}}\n"
     ]
    }
   ],
   "source": [
    "print(agent.generate_response('how long is the diameter of the circle of radius 33'))"
   ]
  },
  {
   "cell_type": "code",
   "execution_count": null,
   "id": "b78824ef",
   "metadata": {},
   "outputs": [],
   "source": []
  },
  {
   "cell_type": "code",
   "execution_count": null,
   "id": "8c94dd99",
   "metadata": {},
   "outputs": [],
   "source": []
  },
  {
   "cell_type": "code",
   "execution_count": null,
   "id": "f02b7559",
   "metadata": {
    "scrolled": true
   },
   "outputs": [],
   "source": [
    "agrep = agent.generate_response('what are the contents of the /root ?')"
   ]
  },
  {
   "cell_type": "code",
   "execution_count": null,
   "id": "540e983d",
   "metadata": {},
   "outputs": [],
   "source": []
  },
  {
   "cell_type": "code",
   "execution_count": null,
   "id": "d6b43ade",
   "metadata": {
    "scrolled": true
   },
   "outputs": [],
   "source": [
    "agent.generate_response('what is your name ? ')"
   ]
  },
  {
   "cell_type": "code",
   "execution_count": null,
   "id": "fcbbe7f2",
   "metadata": {
    "scrolled": false
   },
   "outputs": [],
   "source": [
    "agent.generate_response('waht is the last quaery which I asked you ?')"
   ]
  },
  {
   "cell_type": "code",
   "execution_count": null,
   "id": "38690a75",
   "metadata": {},
   "outputs": [],
   "source": []
  },
  {
   "cell_type": "markdown",
   "id": "8c2fcbea",
   "metadata": {},
   "source": [
    "agent.messages"
   ]
  },
  {
   "cell_type": "markdown",
   "id": "f56d6baa",
   "metadata": {},
   "source": [
    "del agent"
   ]
  },
  {
   "cell_type": "code",
   "execution_count": null,
   "id": "abe1ca80",
   "metadata": {},
   "outputs": [],
   "source": []
  },
  {
   "cell_type": "code",
   "execution_count": null,
   "id": "40edc7b7",
   "metadata": {},
   "outputs": [],
   "source": []
  },
  {
   "cell_type": "code",
   "execution_count": null,
   "id": "93d12fe1",
   "metadata": {},
   "outputs": [],
   "source": []
  },
  {
   "cell_type": "code",
   "execution_count": null,
   "id": "f47e8fe5",
   "metadata": {},
   "outputs": [],
   "source": []
  },
  {
   "cell_type": "code",
   "execution_count": null,
   "id": "196a0f99",
   "metadata": {},
   "outputs": [],
   "source": []
  }
 ],
 "metadata": {
  "kernelspec": {
   "display_name": "Python 3 (ipykernel)",
   "language": "python",
   "name": "python3"
  },
  "language_info": {
   "codemirror_mode": {
    "name": "ipython",
    "version": 3
   },
   "file_extension": ".py",
   "mimetype": "text/x-python",
   "name": "python",
   "nbconvert_exporter": "python",
   "pygments_lexer": "ipython3",
   "version": "3.10.12"
  }
 },
 "nbformat": 4,
 "nbformat_minor": 5
}
