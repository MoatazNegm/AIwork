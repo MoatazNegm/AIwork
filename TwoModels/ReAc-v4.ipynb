{
 "cells": [
  {
   "cell_type": "code",
   "execution_count": 1,
   "id": "bc919864",
   "metadata": {},
   "outputs": [],
   "source": [
    "def list_files(location: str) -> str:\n",
    "    \"\"\"\n",
    "        Description:\n",
    "            LLMTool that Get the files at a location.\n",
    "\n",
    "        Args:\n",
    "            location: list The location filesr, in the format \"City, Country\"\n",
    "        Returns:\n",
    "            The current temperature at the specified location in the specified units, as a float.\n",
    "\n",
    "        return fil1.xyz file2.xyz file3.xyz.  # A real function should probably actually get the temperature!\n",
    "      \"\"\"\n",
    "    import os\n",
    "    try:\n",
    "        files = os.listdir(location)\n",
    "        return ', '.join(files)\n",
    "    except Exception as e:\n",
    "        return f\"Error listing files: {str(e)}\""
   ]
  },
  {
   "cell_type": "code",
   "execution_count": 2,
   "id": "dfb0725e",
   "metadata": {},
   "outputs": [],
   "source": [
    "def get_current_temperature(location: str) -> float:\n",
    "    \"\"\"\n",
    "        Description:\n",
    "            LLMTool that Get the current temperature at a location.\n",
    "\n",
    "        Args:\n",
    "            location: The location to get the temperature for, in the format \"City, Country\"\n",
    "        Returns:\n",
    "            The current temperature at the specified location in the specified units, as a float.\n",
    "\n",
    "        return 22.  # A real function should probably actually get the temperature!\n",
    "      \"\"\"\n",
    "    return 33.5"
   ]
  },
  {
   "cell_type": "code",
   "execution_count": null,
   "id": "f24299b7",
   "metadata": {},
   "outputs": [],
   "source": []
  },
  {
   "cell_type": "code",
   "execution_count": null,
   "id": "a2ea0e64",
   "metadata": {
    "scrolled": true
   },
   "outputs": [],
   "source": []
  },
  {
   "cell_type": "code",
   "execution_count": null,
   "id": "9a535fcb",
   "metadata": {},
   "outputs": [],
   "source": []
  },
  {
   "cell_type": "code",
   "execution_count": 6,
   "id": "1a87bb94",
   "metadata": {
    "scrolled": false
   },
   "outputs": [
    {
     "name": "stderr",
     "output_type": "stream",
     "text": [
      "Unused kwargs: ['_load_in_4bit', '_load_in_8bit', 'quant_method']. These kwargs are not used in <class 'transformers.utils.quantization_config.BitsAndBytesConfig'>.\n",
      "`low_cpu_mem_usage` was None, now set to True since model is quantized.\n"
     ]
    },
    {
     "name": "stdout",
     "output_type": "stream",
     "text": [
      "Tools in this script:\n",
      "- get_current_temperature\n",
      "- list_files\n",
      "- CircleDiameter\n",
      "Trying to load the mode: ../meta-llama_Llama-3.2-3B-Instruct_saved_response from local repo\n",
      "<Agent.Agent object at 0x7fd1347dff10>\n"
     ]
    }
   ],
   "source": [
    "if __name__ == \"__main__\":\n",
    "    import Agent\n",
    "    \n",
    "    try:\n",
    "        del agent\n",
    "        import torch.cuda\n",
    "        torch.cuda.empty_cache()\n",
    "        torch.cuda.synchronize()\n",
    "        import importlib\n",
    "        importlib.reload(Agent)\n",
    "    except:\n",
    "            print('it is considered first iteration')\n",
    "    systemprompt = '''You are a bot that responds to quaries and your name is Assisto. reply to any quary in either a standard format \n",
    "                        or in a json format according to the following:\n",
    "                        - If the question does not need to run any provided tool, then reply in a standard format, i.e. not json.\n",
    "                        - If the question needs you to run a tool but you can find the output of the tool in the history of the prompt\n",
    "                            then reply in standard format, . not json.\n",
    "                        - If you need to run a tool and the tool is already known to you and you do not find the result of the tool\n",
    "                        in your history, then reply in a json format.\n",
    "                        - You do not need to reply in json format if you do not need to call a function. the tools that are \\\n",
    "                        provided to you are the only tools that you can run\n",
    "                        - in all cases, provide the reply to the user request in a nice wording using the results of the tools or functions\n",
    "                    '''\n",
    "    \n",
    "    \n",
    "    print(\"Tools in this script:\")\n",
    "    tools = Agent.list_llm_tools()\n",
    "    for tool_name in tools :\n",
    "        print(f\"- {tool_name.__name__}\") \n",
    "    agent = Agent.agentthis(\"\",\n",
    "        systemprompt, 4,0, tools)\n",
    "    print(agent)\n",
    "    "
   ]
  },
  {
   "cell_type": "code",
   "execution_count": null,
   "id": "f296dd9f",
   "metadata": {},
   "outputs": [],
   "source": []
  },
  {
   "cell_type": "code",
   "execution_count": 9,
   "id": "11335382",
   "metadata": {
    "scrolled": true
   },
   "outputs": [
    {
     "name": "stderr",
     "output_type": "stream",
     "text": [
      "Setting `pad_token_id` to `eos_token_id`:128001 for open-end generation.\n",
      "Setting `pad_token_id` to `eos_token_id`:128001 for open-end generation.\n"
     ]
    },
    {
     "name": "stdout",
     "output_type": "stream",
     "text": [
      "The diameter of the circle is 66.9066 cm.\n"
     ]
    }
   ],
   "source": [
    "agent.reset()\n",
    "print(agent.generate_response('what is the diameter of the circle whose raidus is 33.4533 cm ?'))"
   ]
  },
  {
   "cell_type": "code",
   "execution_count": null,
   "id": "03f1f14a",
   "metadata": {},
   "outputs": [],
   "source": []
  },
  {
   "cell_type": "code",
   "execution_count": 17,
   "id": "e79375b2",
   "metadata": {},
   "outputs": [
    {
     "name": "stderr",
     "output_type": "stream",
     "text": [
      "Setting `pad_token_id` to `eos_token_id`:128001 for open-end generation.\n"
     ]
    },
    {
     "name": "stdout",
     "output_type": "stream",
     "text": [
      "You told me that \"Ody my son is naughty\"\n"
     ]
    }
   ],
   "source": [
    "print(agent.generate_response('Who I told you that he is naughty ?'))"
   ]
  },
  {
   "cell_type": "code",
   "execution_count": 7,
   "id": "d6b43ade",
   "metadata": {
    "scrolled": true
   },
   "outputs": [
    {
     "name": "stderr",
     "output_type": "stream",
     "text": [
      "Setting `pad_token_id` to `eos_token_id`:128001 for open-end generation.\n",
      "Setting `pad_token_id` to `eos_token_id`:128001 for open-end generation.\n"
     ]
    },
    {
     "name": "stdout",
     "output_type": "stream",
     "text": [
      "resubmit the prompt for iteration 1\n"
     ]
    },
    {
     "name": "stderr",
     "output_type": "stream",
     "text": [
      "Setting `pad_token_id` to `eos_token_id`:128001 for open-end generation.\n"
     ]
    },
    {
     "name": "stdout",
     "output_type": "stream",
     "text": [
      "resubmit the prompt for iteration 2\n",
      "all ended with the messages [{'role': 'system', 'content': 'You are a bot that responds to quaries and your name is Assisto. reply to any quary in either a standard format \\n                        or in a json format according to the following:\\n                        - If the question does not need to run any provided tool, then reply in a standard format, i.e. not json.\\n                        - If the question needs you to run a tool but you can find the output of the tool in the history of the prompt\\n                            then reply in standard format, . not json.\\n                        - If you need to run a tool and the tool is already known to you and you do not find the result of the tool\\n                        in your history, then reply in a json format.\\n                        - You do not need to reply in json format if you do not need to call a function. the tools that are                         provided to you are the only tools that you can run\\n                    '}, {'role': 'user', 'content': 'list fhe files in the /var'}, {'role': 'assistant', 'tool_call': [{'type': 'function', 'function': {'name': 'list_files', 'arguments': {'location': '/var'}}}]}, {'role': 'tool', 'name': 'list_files', 'content': 'backups, cache, lib, local, lock, log, mail, opt, run, spool, tmp'}, {'role': 'assistant', 'tool_call': [{'type': 'function', 'function': {'name': 'list_files', 'arguments': {'location': '/var'}}}]}, {'role': 'tool', 'name': 'list_files', 'content': 'backups, cache, lib, local, lock, log, mail, opt, run, spool, tmp'}, {'role': 'assistant', 'content': 'No function call is needed for this prompt.'}, {'role': 'user', 'content': 'I know, so what is the the list then ?'}, {'role': 'assistant', 'tool_call': [{'type': 'function', 'function': {'name': 'list_files', 'arguments': {'location': '/var'}}}]}, {'role': 'tool', 'name': 'list_files', 'content': 'backups, cache, lib, local, lock, log, mail, opt, run, spool, tmp'}, {'role': 'assistant', 'tool_call': [{'type': 'function', 'function': {'name': 'list_files', 'arguments': {'location': '/var'}}}]}, {'role': 'tool', 'name': 'list_files', 'content': 'backups, cache, lib, local, lock, log, mail, opt, run, spool, tmp'}, {'role': 'assistant', 'content': 'No function call is needed for this prompt.'}]\n",
      "-------------------------------------------------------------------------------------------------\n"
     ]
    },
    {
     "data": {
      "text/plain": [
       "'No function call is needed for this prompt.'"
      ]
     },
     "execution_count": 7,
     "metadata": {},
     "output_type": "execute_result"
    }
   ],
   "source": [
    "agent.generate_response('I know, so what is the the list then ?')"
   ]
  },
  {
   "cell_type": "code",
   "execution_count": null,
   "id": "ff32a4d5",
   "metadata": {},
   "outputs": [],
   "source": []
  },
  {
   "cell_type": "code",
   "execution_count": 41,
   "id": "fcbbe7f2",
   "metadata": {
    "scrolled": false
   },
   "outputs": [
    {
     "name": "stderr",
     "output_type": "stream",
     "text": [
      "Setting `pad_token_id` to `eos_token_id`:128001 for open-end generation.\n"
     ]
    },
    {
     "name": "stdout",
     "output_type": "stream",
     "text": [
      "all ended with the messages [{'role': 'system', 'content': 'You are a bot that responds to quaries and your name is Assisto. reply to any quary in either a standard format \\n                        or in a json format according to the following:\\n                        - If the question does not need to run any provided tool, then reply in a standard format, i.e. not json.\\n                        - If the question needs you to run a tool but you can find the output of the tool in the history of the prompt\\n                            then reply in standard format, . not json.\\n                        - If you need to run a tool and the tool is already known to you and you do not find the result of the tool\\n                        in your history, then reply in a json format.\\n                        - You do not need to reply in json format if you do not need to call a function. the tools that are                         provided to you are the only tools that you can run\\n                    '}, {'role': 'user', 'content': 'You are a bot that responds to quaries and your name is Assisto.reply to any quary in either a standard format                         or in a json format according to the following:                        - If the question does not need to run any provided tool, then reply in a standard format                              , i.e. not json.                        - If the question needs you to run a tool but you can find the output of                               the tool in the history of the prompt                            then reply in standard format, . not json.                        - If you need to run a tool and the tool is already                               known to you and you do not find the result of the tool                        in your history, then reply in a json format.                        - Do not to reply in json format if you do not need to call a function.                              the tools that are                         provided to you are the only tools that you can run: what is the diameter of the radius 34.3342 ?'}, {'role': 'assistant', 'content': 'The diameter of a circle with a radius of 34.3342 is 68.6684.'}, {'role': 'user', 'content': 'waht is the last quaery which I asked you ?'}, {'role': 'assistant', 'content': 'Your last question was: what is the diameter of the radius 34.3342?.'}]\n",
      "-------------------------------------------------------------------------------------------------\n"
     ]
    },
    {
     "data": {
      "text/plain": [
       "'Your last question was: what is the diameter of the radius 34.3342?.'"
      ]
     },
     "execution_count": 41,
     "metadata": {},
     "output_type": "execute_result"
    }
   ],
   "source": [
    "agent.generate_response('waht is the last quaery which I asked you ?')"
   ]
  },
  {
   "cell_type": "code",
   "execution_count": null,
   "id": "38690a75",
   "metadata": {},
   "outputs": [],
   "source": []
  },
  {
   "cell_type": "markdown",
   "id": "8c2fcbea",
   "metadata": {},
   "source": [
    "agent.messages"
   ]
  },
  {
   "cell_type": "markdown",
   "id": "f56d6baa",
   "metadata": {},
   "source": [
    "del agent"
   ]
  },
  {
   "cell_type": "code",
   "execution_count": null,
   "id": "abe1ca80",
   "metadata": {},
   "outputs": [],
   "source": []
  },
  {
   "cell_type": "code",
   "execution_count": null,
   "id": "40edc7b7",
   "metadata": {},
   "outputs": [],
   "source": []
  },
  {
   "cell_type": "code",
   "execution_count": null,
   "id": "93d12fe1",
   "metadata": {},
   "outputs": [],
   "source": []
  },
  {
   "cell_type": "code",
   "execution_count": null,
   "id": "f47e8fe5",
   "metadata": {},
   "outputs": [],
   "source": []
  },
  {
   "cell_type": "code",
   "execution_count": null,
   "id": "196a0f99",
   "metadata": {},
   "outputs": [],
   "source": []
  }
 ],
 "metadata": {
  "kernelspec": {
   "display_name": "Python 3 (ipykernel)",
   "language": "python",
   "name": "python3"
  },
  "language_info": {
   "codemirror_mode": {
    "name": "ipython",
    "version": 3
   },
   "file_extension": ".py",
   "mimetype": "text/x-python",
   "name": "python",
   "nbconvert_exporter": "python",
   "pygments_lexer": "ipython3",
   "version": "3.10.12"
  }
 },
 "nbformat": 4,
 "nbformat_minor": 5
}
