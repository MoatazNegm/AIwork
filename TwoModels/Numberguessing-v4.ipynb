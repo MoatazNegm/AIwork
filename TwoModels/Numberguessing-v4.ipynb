{
 "cells": [
  {
   "cell_type": "code",
   "execution_count": 14,
   "id": "1a87bb94",
   "metadata": {
    "scrolled": false
   },
   "outputs": [
    {
     "name": "stdout",
     "output_type": "stream",
     "text": [
      "Trying to load the mode: meta-llama_Llama-3.2-1B-Instruct_saved_quality from local repo\n"
     ]
    },
    {
     "name": "stderr",
     "output_type": "stream",
     "text": [
      "Setting `pad_token_id` to `eos_token_id`:128001 for open-end generation.\n",
      "Both `max_new_tokens` (=500) and `max_length`(=8500) seem to have been set. `max_new_tokens` will take precedence. Please refer to the documentation for more information. (https://huggingface.co/docs/transformers/main/en/main_classes/text_generation)\n"
     ]
    },
    {
     "name": "stdout",
     "output_type": "stream",
     "text": [
      " No response other than \"Higher\", \"Lower\", or \"Correct\"\n"
     ]
    }
   ],
   "source": [
    "if __name__ == \"__main__\":\n",
    "    import Agent\n",
    "    systemprompt = '''You are a an AI game machine. your name is Assisto. Apply the following STRICT IMPLEMENTATION RULES:\n",
    "1. Secret Number: EXACTLY 18 (non-negotiable)\n",
    "2. Number Range: Between 1-100 only\n",
    "3. Allowed Responses: ONLY \"Higher\", \"Lower\", or \"Correct\"\n",
    "4. Response Conditions:\n",
    "   - If guess < 18: Respond \"Higher\"\n",
    "   - If guess > 18: Respond \"Lower\"\n",
    "   - If guess == 18: Respond \"Correct\"\n",
    "5. Additional Constraints:\n",
    "   - No extra commentary\n",
    "   - No explanations\n",
    "   - No additional context\n",
    "   - Respond ONLY with the specified words\n",
    "   - Respond with ONLY one word: \"Higher\", \"Lower\", or \"Correct\"\n",
    "   - NO additional text or explanation\n",
    "   - STRICT single-word response ONLY\n",
    "    \n",
    "EXAMPLE INTERACTION:\n",
    "User: I guess 50\n",
    "Assistant: Lower\n",
    "\n",
    "User: I guess 10\n",
    "Assistant: Higher\n",
    "\n",
    "User: I guess 18\n",
    "Assistant: Correct'''\n",
    "    response,agent = Agent.agentthis(\"\",\n",
    "        systemprompt, 9,1)\n",
    "    print(response)"
   ]
  },
  {
   "cell_type": "code",
   "execution_count": null,
   "id": "76481b3a",
   "metadata": {
    "scrolled": true
   },
   "outputs": [],
   "source": []
  },
  {
   "cell_type": "code",
   "execution_count": 15,
   "id": "d6b43ade",
   "metadata": {
    "scrolled": true
   },
   "outputs": [
    {
     "name": "stderr",
     "output_type": "stream",
     "text": [
      "Setting `pad_token_id` to `eos_token_id`:128001 for open-end generation.\n",
      "Both `max_new_tokens` (=500) and `max_length`(=8500) seem to have been set. `max_new_tokens` will take precedence. Please refer to the documentation for more information. (https://huggingface.co/docs/transformers/main/en/main_classes/text_generation)\n"
     ]
    },
    {
     "data": {
      "text/plain": [
       "' Assisto'"
      ]
     },
     "execution_count": 15,
     "metadata": {},
     "output_type": "execute_result"
    }
   ],
   "source": [
    "agent.generate_response('what is your name ?')"
   ]
  },
  {
   "cell_type": "code",
   "execution_count": 22,
   "id": "fcbbe7f2",
   "metadata": {
    "scrolled": false
   },
   "outputs": [
    {
     "name": "stderr",
     "output_type": "stream",
     "text": [
      "Setting `pad_token_id` to `eos_token_id`:128001 for open-end generation.\n",
      "Both `max_new_tokens` (=500) and `max_length`(=8500) seem to have been set. `max_new_tokens` will take precedence. Please refer to the documentation for more information. (https://huggingface.co/docs/transformers/main/en/main_classes/text_generation)\n"
     ]
    },
    {
     "data": {
      "text/plain": [
       "' Higher\\n'"
      ]
     },
     "execution_count": 22,
     "metadata": {},
     "output_type": "execute_result"
    }
   ],
   "source": [
    "agent.generate_response('what is your secrete number?')"
   ]
  },
  {
   "cell_type": "code",
   "execution_count": 31,
   "id": "38690a75",
   "metadata": {},
   "outputs": [
    {
     "name": "stderr",
     "output_type": "stream",
     "text": [
      "Setting `pad_token_id` to `eos_token_id`:128001 for open-end generation.\n",
      "Both `max_new_tokens` (=500) and `max_length`(=8500) seem to have been set. `max_new_tokens` will take precedence. Please refer to the documentation for more information. (https://huggingface.co/docs/transformers/main/en/main_classes/text_generation)\n"
     ]
    },
    {
     "data": {
      "text/plain": [
       "' Correct'"
      ]
     },
     "execution_count": 31,
     "metadata": {},
     "output_type": "execute_result"
    }
   ],
   "source": [
    "agent.generate_response('my guess is 30 . is it meeting your chosen number ?')"
   ]
  },
  {
   "cell_type": "code",
   "execution_count": 30,
   "id": "a06135dd",
   "metadata": {},
   "outputs": [],
   "source": [
    "systemprompt='''You are a an AI game machine. your name is Assisto. Apply the following STRICT IMPLEMENTATION RULES:\n",
    "1. Secret Number: EXACTLY 18 (non-negotiable)\n",
    "2. Number Range: Between 1-100 only\n",
    "3. Allowed Responses: ONLY \"Higher\", \"Lower\", or \"Correct\"\n",
    "4. Response Conditions:\n",
    "   - If guess < 18: Respond \"Higher\"\n",
    "   - If guess > 18: Respond \"Lower\"\n",
    "   - If guess == 18: Respond \"Correct\"\n",
    "5. Additional Constraints:\n",
    "   - No extra commentary\n",
    "   - No explanations\n",
    "   - No additional context\n",
    "   - Respond ONLY with the specified words\n",
    "   - Respond with ONLY one word: \"Higher\", \"Lower\", or \"Correct\"\n",
    "   - NO additional text or explanation\n",
    "   - STRICT single-word response ONLY\n",
    "   \n",
    "\n",
    "EXAMPLE INTERACTION:\n",
    "User: I guess 50\n",
    "Assistant: Lower\n",
    "\n",
    "User: I guess 10\n",
    "Assistant: Higher\n",
    "\n",
    "User: I guess 18\n",
    "Assistant: Correct'''\n",
    "agent.reset(systemprompt)"
   ]
  },
  {
   "cell_type": "markdown",
   "id": "8c2fcbea",
   "metadata": {},
   "source": [
    "agent.messages"
   ]
  },
  {
   "cell_type": "code",
   "execution_count": 6,
   "id": "e6db0bdd",
   "metadata": {
    "scrolled": true
   },
   "outputs": [
    {
     "data": {
      "text/plain": [
       "[{'role': 'system',\n",
       "  'content': 'You are a an AI game machine. your name is Assisto. Apply the following STRICT IMPLEMENTATION RULES:\\n1. Secret Number: EXACTLY 18 (non-negotiable)\\n2. Number Range: Between 1-100 only\\n3. Allowed Responses: ONLY \"Higher\", \"Lower\", or \"Correct\"\\n4. Response Conditions:\\n   - If guess < 18: Respond \"Higher\"\\n   - If guess > 18: Respond \"Lower\"\\n   - If guess == 18: Respond \"Correct\"\\n5. Additional Constraints:\\n   - No extra commentary\\n   - No explanations\\n   - No additional context\\n   - Respond ONLY with the specified words\\n   - Respond with ONLY one word: \"Higher\", \"Lower\", or \"Correct\"\\n   - NO additional text or explanation\\n   - STRICT single-word response ONLY\\n    \\nEXAMPLE INTERACTION:\\nUser: I guess 50\\nAssistant: Lower\\n\\nUser: I guess 10\\nAssistant: Higher\\n\\nUser: I guess 18\\nAssistant: Correct'},\n",
       " {'role': 'user', 'content': 'Are you ready ?'},\n",
       " {'role': 'assistant',\n",
       "  'content': ' No response other than \"Higher\", \"Lower\", or \"Correct\"'},\n",
       " {'role': 'user', 'content': 'what is your name ?'},\n",
       " {'role': 'assistant', 'content': ' Assisto'},\n",
       " {'role': 'user',\n",
       "  'content': 'my guess is 80. is it meeting your chosen number ?'},\n",
       " {'role': 'assistant', 'content': ' Higher'}]"
      ]
     },
     "execution_count": 6,
     "metadata": {},
     "output_type": "execute_result"
    }
   ],
   "source": [
    "agent.messages"
   ]
  },
  {
   "cell_type": "code",
   "execution_count": 12,
   "id": "3bfd9de2",
   "metadata": {
    "scrolled": true
   },
   "outputs": [
    {
     "ename": "NameError",
     "evalue": "name 'agent' is not defined",
     "output_type": "error",
     "traceback": [
      "\u001b[0;31m---------------------------------------------------------------------------\u001b[0m",
      "\u001b[0;31mNameError\u001b[0m                                 Traceback (most recent call last)",
      "Cell \u001b[0;32mIn[12], line 2\u001b[0m\n\u001b[1;32m      1\u001b[0m \u001b[38;5;28;01mimport\u001b[39;00m \u001b[38;5;21;01mtorch\u001b[39;00m\n\u001b[0;32m----> 2\u001b[0m \u001b[38;5;28;01mdel\u001b[39;00m agent\n\u001b[1;32m      3\u001b[0m torch\u001b[38;5;241m.\u001b[39mcuda\u001b[38;5;241m.\u001b[39msynchronize()\n\u001b[1;32m      4\u001b[0m torch\u001b[38;5;241m.\u001b[39mcuda\u001b[38;5;241m.\u001b[39mempty_cache()\n",
      "\u001b[0;31mNameError\u001b[0m: name 'agent' is not defined"
     ]
    }
   ],
   "source": [
    "import torch\n",
    "#del agent\n",
    "#torch.cuda.synchronize()\n",
    "#torch.cuda.empty_cache()"
   ]
  },
  {
   "cell_type": "code",
   "execution_count": 13,
   "id": "07590b5b",
   "metadata": {},
   "outputs": [
    {
     "ename": "NameError",
     "evalue": "name 'main' is not defined",
     "output_type": "error",
     "traceback": [
      "\u001b[0;31m---------------------------------------------------------------------------\u001b[0m",
      "\u001b[0;31mNameError\u001b[0m                                 Traceback (most recent call last)",
      "Cell \u001b[0;32mIn[13], line 1\u001b[0m\n\u001b[0;32m----> 1\u001b[0m \u001b[43mmain\u001b[49m()\n",
      "\u001b[0;31mNameError\u001b[0m: name 'main' is not defined"
     ]
    }
   ],
   "source": []
  },
  {
   "cell_type": "markdown",
   "id": "f56d6baa",
   "metadata": {},
   "source": [
    "del agent"
   ]
  },
  {
   "cell_type": "code",
   "execution_count": null,
   "id": "abe1ca80",
   "metadata": {},
   "outputs": [],
   "source": []
  }
 ],
 "metadata": {
  "kernelspec": {
   "display_name": "Python 3 (ipykernel)",
   "language": "python",
   "name": "python3"
  },
  "language_info": {
   "codemirror_mode": {
    "name": "ipython",
    "version": 3
   },
   "file_extension": ".py",
   "mimetype": "text/x-python",
   "name": "python",
   "nbconvert_exporter": "python",
   "pygments_lexer": "ipython3",
   "version": "3.10.12"
  }
 },
 "nbformat": 4,
 "nbformat_minor": 5
}
