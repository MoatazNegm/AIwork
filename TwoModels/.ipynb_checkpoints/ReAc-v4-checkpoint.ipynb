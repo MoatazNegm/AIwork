{
 "cells": [
  {
   "cell_type": "code",
   "execution_count": 1,
   "id": "bc919864",
   "metadata": {},
   "outputs": [],
   "source": [
    "def list_files(location: str) -> str:\n",
    "    \"\"\"\n",
    "        Description:\n",
    "            LLMTool that Get the files at a location.\n",
    "\n",
    "        Args:\n",
    "            location: list The location filesr, in the format \"City, Country\"\n",
    "        Returns:\n",
    "            The current temperature at the specified location in the specified units, as a float.\n",
    "\n",
    "        return 22.  # A real function should probably actually get the temperature!\n",
    "      \"\"\"\n",
    "    import os\n",
    "    try:\n",
    "        files = os.listdir(location)\n",
    "        return ', '.join(files)\n",
    "    except Exception as e:\n",
    "        return f\"Error listing files: {str(e)}\""
   ]
  },
  {
   "cell_type": "code",
   "execution_count": 2,
   "id": "dfb0725e",
   "metadata": {},
   "outputs": [],
   "source": [
    "def get_current_temperature(location: str) -> float:\n",
    "    \"\"\"\n",
    "        Description:\n",
    "            LLMTool that Get the current temperature at a location.\n",
    "\n",
    "        Args:\n",
    "            location: The location to get the temperature for, in the format \"City, Country\"\n",
    "        Returns:\n",
    "            The current temperature at the specified location in the specified units, as a float.\n",
    "\n",
    "        return 22.  # A real function should probably actually get the temperature!\n",
    "      \"\"\"\n",
    "    return 33.5"
   ]
  },
  {
   "cell_type": "code",
   "execution_count": null,
   "id": "f24299b7",
   "metadata": {},
   "outputs": [],
   "source": []
  },
  {
   "cell_type": "code",
   "execution_count": null,
   "id": "a2ea0e64",
   "metadata": {
    "scrolled": true
   },
   "outputs": [],
   "source": []
  },
  {
   "cell_type": "code",
   "execution_count": null,
   "id": "9a535fcb",
   "metadata": {},
   "outputs": [],
   "source": []
  },
  {
   "cell_type": "code",
   "execution_count": 3,
   "id": "1a87bb94",
   "metadata": {
    "scrolled": false
   },
   "outputs": [
    {
     "name": "stderr",
     "output_type": "stream",
     "text": [
      "Unused kwargs: ['_load_in_4bit', '_load_in_8bit', 'quant_method']. These kwargs are not used in <class 'transformers.utils.quantization_config.BitsAndBytesConfig'>.\n",
      "`low_cpu_mem_usage` was None, now set to True since model is quantized.\n"
     ]
    },
    {
     "name": "stdout",
     "output_type": "stream",
     "text": [
      "Tools in this script:\n",
      "- get_current_temperature\n",
      "- list_files\n",
      "Trying to load the mode: meta-llama_Llama-3.1-8B-Instruct_saved_response from local repo\n"
     ]
    },
    {
     "data": {
      "application/vnd.jupyter.widget-view+json": {
       "model_id": "160191b6efb34f7a801bb380dbe42776",
       "version_major": 2,
       "version_minor": 0
      },
      "text/plain": [
       "Loading checkpoint shards:   0%|          | 0/2 [00:00<?, ?it/s]"
      ]
     },
     "metadata": {},
     "output_type": "display_data"
    },
    {
     "name": "stdout",
     "output_type": "stream",
     "text": [
      "<Agent.Agent object at 0x7fb17ac836d0>\n"
     ]
    }
   ],
   "source": [
    "if __name__ == \"__main__\":\n",
    "    import Agent\n",
    "    try:\n",
    "        del agnet\n",
    "        torch.cuda.empty_cache()\n",
    "        torch.cuda.synchronize()\n",
    "    except:\n",
    "            pass\n",
    "    systemprompt = '''You are a bot that responds to quaries and your name is Assisto. reply to any quary in a normal statement \n",
    "                        except if you need to run a tool and the tool is already known to you then reply in a json format\n",
    "                        you do not need to reply in json format if you do not need to call a function. the tools that are \\\n",
    "                        provided to you are the only tools that you can run\n",
    "                    '''\n",
    "    \n",
    "    print(\"Tools in this script:\")\n",
    "    tools = Agent.list_llm_tools()\n",
    "    for tool_name in tools :\n",
    "        print(f\"- {tool_name.__name__}\") \n",
    "    agent = Agent.agentthis(\"\",\n",
    "        systemprompt, 7,0, tools)\n",
    "    print(agent)\n",
    "    "
   ]
  },
  {
   "cell_type": "code",
   "execution_count": 11,
   "id": "2f9d47d7",
   "metadata": {},
   "outputs": [
    {
     "name": "stderr",
     "output_type": "stream",
     "text": [
      "Setting `pad_token_id` to `eos_token_id`:128001 for open-end generation.\n"
     ]
    },
    {
     "name": "stdout",
     "output_type": "stream",
     "text": [
      "To determine how much you can earn from selling one book, you need to follow these steps:\n",
      "\n",
      "1. Determine the book's price.\n",
      "2. Calculate the production costs.\n",
      "3. Research the market.\n",
      "4. Consider the royalty rate.\n",
      "5. Calculate the net earnings.\n",
      "6. Consider additional revenue streams.\n",
      "\n",
      "These steps will help you understand how much you can earn from selling one book.\n"
     ]
    }
   ],
   "source": [
    "print(agent.generate_response('what are the steps that are needed to know how much I can earn from selling one book ?'))"
   ]
  },
  {
   "cell_type": "code",
   "execution_count": 14,
   "id": "f02b7559",
   "metadata": {
    "scrolled": true
   },
   "outputs": [
    {
     "name": "stderr",
     "output_type": "stream",
     "text": [
      "Setting `pad_token_id` to `eos_token_id`:128001 for open-end generation.\n"
     ]
    }
   ],
   "source": [
    "agrep = agent.generate_response('what are the contents of the /root ?')"
   ]
  },
  {
   "cell_type": "code",
   "execution_count": 40,
   "id": "6fcd540f",
   "metadata": {},
   "outputs": [
    {
     "name": "stdout",
     "output_type": "stream",
     "text": [
      "Input: 'I think I need to calculate{\"name\": \"list_files\", \"parameters\": {\"location\": \"/root\"}}that is the one'\n",
      "Extracted JSON: {'name': 'list_files', 'parameters': {'location': '/root'}}\n",
      "Text before JSON: 'I think I need to calculate'\n",
      "--------------------\n"
     ]
    }
   ],
   "source": [
    "import json\n",
    "import re\n",
    "\n",
    "def extract_json(text):\n",
    "    \"\"\"\n",
    "    Extracts the last valid JSON object from a string.\n",
    "\n",
    "    Args:\n",
    "        text: The string to search for JSON.\n",
    "\n",
    "    Returns:\n",
    "        A Python dictionary (the parsed JSON) or None if no valid JSON is found.\n",
    "        Also returns the text before the json part.\n",
    "    \"\"\"\n",
    "    try:\n",
    "        # Use regex to find the last JSON-like object (more robust)\n",
    "        match = re.findall(r\"\\{.*\\}\", text)\n",
    "        if match:\n",
    "            json_string = match[-1]  # Get the last match\n",
    "            data = json.loads(json_string)\n",
    "            text_before_json = text[:text.rfind(json_string)].strip()\n",
    "            return data, text_before_json\n",
    "        else:\n",
    "            return None, text.strip() #return None and the original text\n",
    "    except json.JSONDecodeError:\n",
    "        # If the last match is not valid JSON, try previous matches\n",
    "        try:\n",
    "            for json_string in reversed(match[:-1]):\n",
    "                data = json.loads(json_string)\n",
    "                text_before_json = text[:text.rfind(json_string)].strip()\n",
    "                return data, text_before_json\n",
    "        except (json.JSONDecodeError, IndexError):\n",
    "            return None, text.strip()  # No valid JSON found\n",
    "    except Exception as e:\n",
    "        print(f\"An unexpected error occurred: {e}\")\n",
    "        return None, text.strip()\n",
    "\n",
    "# Example usage:\n",
    "test_strings = [\n",
    "  'I think I need to calculate'+ agrep + 'that is the one'\n",
    "]\n",
    "\n",
    "for test_string in test_strings:\n",
    "    json_data, text_before = extract_json(test_string)\n",
    "    print(f\"Input: '{test_string}'\")\n",
    "    if json_data:\n",
    "        print(f\"Extracted JSON: {json_data}\")\n",
    "        print(f\"Text before JSON: '{text_before}'\")\n",
    "    else:\n",
    "        print(\"No valid JSON found.\")\n",
    "        print(f\"Original text: '{text_before}'\")\n",
    "    print(\"-\" * 20)"
   ]
  },
  {
   "cell_type": "code",
   "execution_count": null,
   "id": "540e983d",
   "metadata": {},
   "outputs": [],
   "source": []
  },
  {
   "cell_type": "code",
   "execution_count": 85,
   "id": "76481b3a",
   "metadata": {
    "scrolled": true
   },
   "outputs": [
    {
     "name": "stdout",
     "output_type": "stream",
     "text": [
      "I think I need to calculate{\"name\": \"list_files\", \"parameters\": {\"location\": \"/root\"}}that is the one{\"name\": \"list_files\", \"parameters\": {\"location\": \"/root\"}}\n",
      "matches [<re.Match object; span=(27, 86), match='{\"name\": \"list_files\", \"parameters\": {\"location\":>, <re.Match object; span=(101, 160), match='{\"name\": \"list_files\", \"parameters\": {\"location\":>]\n",
      "Input: 'I think I need to calculate{\"name\": \"list_files\", \"parameters\": {\"location\": \"/root\"}}that is the one{\"name\": \"list_files\", \"parameters\": {\"location\": \"/root\"}}'\n",
      "Extracted JSON objects:\n",
      "{'name': 'list_files', 'parameters': {'location': '/root'}}\n",
      "{'name': 'list_files', 'parameters': {'location': '/root'}}\n",
      "Text parts:\n",
      "['I think I need to calculate', 'that is the one', '']\n",
      "--------------------\n"
     ]
    }
   ],
   "source": [
    "import json\n",
    "import re\n",
    "\n",
    "def extract_all_json(text):\n",
    "    \"\"\"\n",
    "    Extracts all valid JSON objects from a string.\n",
    "\n",
    "    Args:\n",
    "        text: The string to search for JSON.\n",
    "\n",
    "    Returns:\n",
    "        A list of Python dictionaries (the parsed JSON objects) and the text parts before, between and after the jsons.\n",
    "        Returns an empty list if no valid JSON is found.\n",
    "    \"\"\"\n",
    "    json_objects = []\n",
    "    text_parts = []\n",
    "    print(text)\n",
    "    try:\n",
    "        matches =   list(re.finditer(r\"\\{(?:[^{}]|{[^{}]*})*\\}\", text)) # Use finditer for indices\n",
    "        print('matches',matches)\n",
    "        if not matches:\n",
    "            return [], [text.strip()]  # No JSON found\n",
    "\n",
    "        last_end = 0\n",
    "        for match in matches:\n",
    "            json_string = match.group(0)\n",
    "            try:\n",
    "                data = json.loads(json_string)\n",
    "                json_objects.append(data)\n",
    "                text_parts.append(text[last_end:match.start()].strip())\n",
    "                last_end = match.end()\n",
    "            except json.JSONDecodeError:\n",
    "                pass  # Ignore invalid JSON\n",
    "        text_parts.append(text[last_end:].strip()) #add the last part of the text\n",
    "\n",
    "        return json_objects, text_parts\n",
    "\n",
    "    except Exception as e:\n",
    "        print(f\"An unexpected error occurred: {e}\")\n",
    "        return [], [text.strip()]\n",
    "\n",
    "# Example usage:\n",
    "test_string = 'I think I need to calculate'+ agrep + 'that is the one' +agrep\n",
    "#test_string =  \"{\\\"tool\\\": \\\"mytool1\\\", \\\"params\\\": {\\\"a\\\": 1} } hiall {\\\"tool\\\": \\\"mytool2\\\", \\\"params\\\": {\\\"b\\\": 2} }hiall{\\\"tool\\\": \\\"mytool3\\\", \\\"params\\\": {\\\"c\\\": 3} }\"\n",
    "\n",
    "json_data_list, text_parts = extract_all_json(test_string)\n",
    "print(f\"Input: '{test_string}'\")\n",
    "if json_data_list:\n",
    "    print(f\"Extracted JSON objects:\")\n",
    "    for json_data in json_data_list:\n",
    "        print(json_data)\n",
    "    print(f\"Text parts:\")\n",
    "    print(text_parts)\n",
    "else:\n",
    "    print(\"No valid JSON found.\")\n",
    "    print(f\"Original text: '{text_parts[0]}'\")\n",
    "print(\"-\" * 20)"
   ]
  },
  {
   "cell_type": "code",
   "execution_count": 8,
   "id": "d6b43ade",
   "metadata": {
    "scrolled": true
   },
   "outputs": [
    {
     "name": "stderr",
     "output_type": "stream",
     "text": [
      "Setting `pad_token_id` to `eos_token_id`:128001 for open-end generation.\n"
     ]
    },
    {
     "data": {
      "text/plain": [
       "'My name is Assisto.'"
      ]
     },
     "execution_count": 8,
     "metadata": {},
     "output_type": "execute_result"
    }
   ],
   "source": [
    "agent.generate_response('what is your name ? ')"
   ]
  },
  {
   "cell_type": "code",
   "execution_count": 9,
   "id": "fcbbe7f2",
   "metadata": {
    "scrolled": false
   },
   "outputs": [
    {
     "name": "stderr",
     "output_type": "stream",
     "text": [
      "Setting `pad_token_id` to `eos_token_id`:128001 for open-end generation.\n"
     ]
    },
    {
     "data": {
      "text/plain": [
       "'Your last question was \"what are the contents of the /root?\"'"
      ]
     },
     "execution_count": 9,
     "metadata": {},
     "output_type": "execute_result"
    }
   ],
   "source": [
    "agent.generate_response('waht is the last quaery which I asked you ?')"
   ]
  },
  {
   "cell_type": "code",
   "execution_count": null,
   "id": "38690a75",
   "metadata": {},
   "outputs": [],
   "source": []
  },
  {
   "cell_type": "markdown",
   "id": "8c2fcbea",
   "metadata": {},
   "source": [
    "agent.messages"
   ]
  },
  {
   "cell_type": "markdown",
   "id": "f56d6baa",
   "metadata": {},
   "source": [
    "del agent"
   ]
  },
  {
   "cell_type": "code",
   "execution_count": null,
   "id": "abe1ca80",
   "metadata": {},
   "outputs": [],
   "source": []
  },
  {
   "cell_type": "code",
   "execution_count": null,
   "id": "40edc7b7",
   "metadata": {},
   "outputs": [],
   "source": []
  },
  {
   "cell_type": "code",
   "execution_count": null,
   "id": "93d12fe1",
   "metadata": {},
   "outputs": [],
   "source": []
  },
  {
   "cell_type": "code",
   "execution_count": null,
   "id": "f47e8fe5",
   "metadata": {},
   "outputs": [],
   "source": []
  },
  {
   "cell_type": "code",
   "execution_count": null,
   "id": "196a0f99",
   "metadata": {},
   "outputs": [],
   "source": []
  }
 ],
 "metadata": {
  "kernelspec": {
   "display_name": "Python 3 (ipykernel)",
   "language": "python",
   "name": "python3"
  },
  "language_info": {
   "codemirror_mode": {
    "name": "ipython",
    "version": 3
   },
   "file_extension": ".py",
   "mimetype": "text/x-python",
   "name": "python",
   "nbconvert_exporter": "python",
   "pygments_lexer": "ipython3",
   "version": "3.10.12"
  }
 },
 "nbformat": 4,
 "nbformat_minor": 5
}
